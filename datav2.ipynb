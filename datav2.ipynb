{
  "nbformat": 4,
  "nbformat_minor": 0,
  "metadata": {
    "colab": {
      "name": "data.ipynb",
      "provenance": [],
      "collapsed_sections": [],
      "include_colab_link": true
    },
    "kernelspec": {
      "name": "python3",
      "display_name": "Python 3"
    }
  },
  "cells": [
    {
      "cell_type": "markdown",
      "metadata": {
        "id": "view-in-github",
        "colab_type": "text"
      },
      "source": [
        "<a href=\"https://colab.research.google.com/github/Rmonty1/Hello-World/blob/master/datav2.ipynb\" target=\"_parent\"><img src=\"https://colab.research.google.com/assets/colab-badge.svg\" alt=\"Open In Colab\"/></a>"
      ]
    },
    {
      "cell_type": "code",
      "metadata": {
        "id": "f5NDXrN2CtH7",
        "colab_type": "code",
        "colab": {}
      },
      "source": [
        "import os\n",
        "import json\n",
        "import gzip\n",
        "import pandas as pd\n",
        "from urllib.request import urlopen"
      ],
      "execution_count": 0,
      "outputs": []
    },
    {
      "cell_type": "code",
      "metadata": {
        "id": "feWoOrmt4Tja",
        "colab_type": "code",
        "outputId": "da3ff84d-b825-4460-96ea-f89dab469cbb",
        "colab": {
          "base_uri": "https://localhost:8080/",
          "height": 204
        }
      },
      "source": [
        "!wget http://deepyeti.ucsd.edu/jianmo/amazon/metaFiles/meta_Tools_and_Home_Improvement.json.gz"
      ],
      "execution_count": 2,
      "outputs": [
        {
          "output_type": "stream",
          "text": [
            "--2020-03-25 20:01:11--  http://deepyeti.ucsd.edu/jianmo/amazon/metaFiles/meta_Tools_and_Home_Improvement.json.gz\n",
            "Resolving deepyeti.ucsd.edu (deepyeti.ucsd.edu)... 169.228.63.50\n",
            "Connecting to deepyeti.ucsd.edu (deepyeti.ucsd.edu)|169.228.63.50|:80... connected.\n",
            "HTTP request sent, awaiting response... 200 OK\n",
            "Length: 612199473 (584M) [application/octet-stream]\n",
            "Saving to: ‘meta_Tools_and_Home_Improvement.json.gz’\n",
            "\n",
            "meta_Tools_and_Home 100%[===================>] 583.84M  2.54MB/s    in 3m 44s  \n",
            "\n",
            "2020-03-25 20:04:55 (2.60 MB/s) - ‘meta_Tools_and_Home_Improvement.json.gz’ saved [612199473/612199473]\n",
            "\n"
          ],
          "name": "stdout"
        }
      ]
    },
    {
      "cell_type": "code",
      "metadata": {
        "id": "7igYuRaV4bF7",
        "colab_type": "code",
        "outputId": "e662cdfe-5722-4fc5-fb29-e77f4e3b8a4a",
        "colab": {
          "base_uri": "https://localhost:8080/",
          "height": 71
        }
      },
      "source": [
        "data = []\n",
        "with gzip.open('meta_Tools_and_Home_Improvement.json.gz') as f:\n",
        "    for l in f:\n",
        "        data.append(json.loads(l.strip()))\n",
        "    \n",
        "# total length of list, this number equals total number of products\n",
        "print(len(data))\n",
        "\n",
        "# first row of the list\n",
        "print(data[0])"
      ],
      "execution_count": 3,
      "outputs": [
        {
          "output_type": "stream",
          "text": [
            "571982\n",
            "{'category': ['Tools & Home Improvement', 'Lighting & Ceiling Fans', 'Lamps & Shades', 'Table Lamps'], 'description': ['collectible table lamp'], 'title': \"Everett's Cottage Table Lamp\", 'rank': '>#3,780,135 in Tools & Home Improvement (See top 100)>#45,028 in Tools & Home Improvement > Lighting & Ceiling Fans > Lamps & Shades > Table Lamps', 'main_cat': 'Tools & Home Improvement', 'date': 'October 30, 2010', 'asin': '001212835X'}\n"
          ],
          "name": "stdout"
        }
      ]
    },
    {
      "cell_type": "code",
      "metadata": {
        "id": "knpHP22w4scK",
        "colab_type": "code",
        "outputId": "164372e1-ee84-4175-e73f-efeff8e226d3",
        "colab": {
          "base_uri": "https://localhost:8080/",
          "height": 34
        }
      },
      "source": [
        "# convert list into pandas dataframe\n",
        "df = pd.DataFrame.from_dict(data)\n",
        "\n",
        "print(len(df))"
      ],
      "execution_count": 4,
      "outputs": [
        {
          "output_type": "stream",
          "text": [
            "571982\n"
          ],
          "name": "stdout"
        }
      ]
    },
    {
      "cell_type": "code",
      "metadata": {
        "id": "LgWrDtZ94w89",
        "colab_type": "code",
        "outputId": "eacacac4-d787-41fe-c38d-9919ffc24ee1",
        "colab": {
          "base_uri": "https://localhost:8080/",
          "height": 51
        }
      },
      "source": [
        "### remove rows with unformatted title (i.e. some 'title' may still contain html style content)\n",
        "\n",
        "df3 = df.fillna('')\n",
        "df4 = df3[df3.title.str.contains('getTime')] # unformatted rows\n",
        "df5 = df3[~df3.title.str.contains('getTime')] # filter those unformatted rows\n",
        "print(len(df4))\n",
        "print(len(df5))"
      ],
      "execution_count": 5,
      "outputs": [
        {
          "output_type": "stream",
          "text": [
            "10351\n",
            "561631\n"
          ],
          "name": "stdout"
        }
      ]
    },
    {
      "cell_type": "code",
      "metadata": {
        "id": "7Vq32rQd5D9W",
        "colab_type": "code",
        "outputId": "37e8ee5f-fefc-4fe5-fe56-2f80047ade5e",
        "colab": {
          "base_uri": "https://localhost:8080/",
          "height": 340
        }
      },
      "source": [
        "# how those unformatted rows look like\n",
        "df4.iloc[0]"
      ],
      "execution_count": 6,
      "outputs": [
        {
          "output_type": "execute_result",
          "data": {
            "text/plain": [
              "category        [Tools & Home Improvement, Hardware, Door Hard...\n",
              "description     [Baldwin Estates impressive top-of-the-line po...\n",
              "title           var aPageStart = (new Date()).getTime();\\nvar ...\n",
              "rank            >#715,534 in Tools & Home Improvement (See top...\n",
              "main_cat                                 Tools & Home Improvement\n",
              "date                                               March 28, 2008\n",
              "asin                                                   B0013F95NO\n",
              "tech1           {'Part Number': '8232.112', 'Item Weight': '1....\n",
              "image           [https://images-na.ssl-images-amazon.com/image...\n",
              "brand                                                     Baldwin\n",
              "feature         [Double cylinder, Adjustable latch for 2-3/8\" ...\n",
              "also_buy                                                         \n",
              "also_view       [B004T3KG9Y, B003APS8GK, B0068W9ETW, B0036T76G...\n",
              "similar_item    [{'asin': '', 'href': '', 'name': 'Baldwin Est...\n",
              "price                                                       $6.71\n",
              "details                                                          \n",
              "tech2                                                            \n",
              "fit                                                              \n",
              "Name: 85718, dtype: object"
            ]
          },
          "metadata": {
            "tags": []
          },
          "execution_count": 6
        }
      ]
    },
    {
      "cell_type": "code",
      "metadata": {
        "id": "6LBLzsFU5LJ_",
        "colab_type": "code",
        "colab": {}
      },
      "source": [
        "pd.set_option('display.max_rows', 500)\n",
        "pd.set_option('display.max_columns', 20)"
      ],
      "execution_count": 0,
      "outputs": []
    },
    {
      "cell_type": "code",
      "metadata": {
        "id": "WqZcdGp-5cui",
        "colab_type": "code",
        "colab": {
          "base_uri": "https://localhost:8080/",
          "height": 85
        },
        "outputId": "bb5ff39c-916c-4149-9c53-78ee154ee568"
      },
      "source": [
        "df5.columns"
      ],
      "execution_count": 9,
      "outputs": [
        {
          "output_type": "execute_result",
          "data": {
            "text/plain": [
              "Index(['category', 'description', 'title', 'rank', 'main_cat', 'date', 'asin',\n",
              "       'tech1', 'image', 'brand', 'feature', 'also_buy', 'also_view',\n",
              "       'similar_item', 'price', 'details', 'tech2', 'fit'],\n",
              "      dtype='object')"
            ]
          },
          "metadata": {
            "tags": []
          },
          "execution_count": 9
        }
      ]
    },
    {
      "cell_type": "code",
      "metadata": {
        "id": "cmb3RGWKXqyK",
        "colab_type": "code",
        "colab": {
          "base_uri": "https://localhost:8080/",
          "height": 136
        },
        "outputId": "5501a4e4-3d65-4e3d-8a64-2528efa1064b"
      },
      "source": [
        "brands = ['DEWALT']\n",
        "df5['brand'] = df5['brand'].str.upper()\n",
        "df5.brand.isin(brands)\n",
        "brands_df5 = df5[df5.brand.isin(brands)]\n",
        "brands_df5.shape\n",
        "\n"
      ],
      "execution_count": 38,
      "outputs": [
        {
          "output_type": "stream",
          "text": [
            "/usr/local/lib/python3.6/dist-packages/ipykernel_launcher.py:2: SettingWithCopyWarning: \n",
            "A value is trying to be set on a copy of a slice from a DataFrame.\n",
            "Try using .loc[row_indexer,col_indexer] = value instead\n",
            "\n",
            "See the caveats in the documentation: http://pandas.pydata.org/pandas-docs/stable/user_guide/indexing.html#returning-a-view-versus-a-copy\n",
            "  \n"
          ],
          "name": "stderr"
        },
        {
          "output_type": "execute_result",
          "data": {
            "text/plain": [
              "(0, 18)"
            ]
          },
          "metadata": {
            "tags": []
          },
          "execution_count": 38
        }
      ]
    }
  ]
}